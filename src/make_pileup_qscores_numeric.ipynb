{
 "cells": [
  {
   "cell_type": "code",
   "execution_count": 3,
   "id": "0f8cf02b-956d-4bcb-84de-de691c528261",
   "metadata": {},
   "outputs": [],
   "source": [
    "'''\n",
    "get_all_quals processes the output of samtools mpileup by splitting each line into a list with elements:\n",
    "0. chromosome\n",
    "1. position (a single nucleotide)\n",
    "2. reference base at position\n",
    "3. # of reads at position\n",
    "4. \"read bases\": a string of characters describing the alignment at the position. Different notation\n",
    "for matches, mismatches, indels, strand, mapping quality, and starts and ends of reads, not necessarily 1 char/read.\n",
    "5. Base qualities, encoded as ASCII characters (1/ position).\n",
    "6. Alignment mapping qualities, encoded as ASCII characters.\n",
    "'''\n",
    "\n",
    "def get_all_quals(file1, file2):\n",
    "    with open(file1, 'r') as in_pileup, open(file2, 'w') as out_pileup:\n",
    "\n",
    "        for line in in_pileup:\n",
    "            line = line.rstrip(\"\\n\") # pull that special character off the end\n",
    "            pileup_data=line.split(\"\\t\") # split the string up by tabs, obviously\n",
    "            base_qual_holder = \"\" # we're going to hold all the numeric quality values for bases in this string\n",
    "            align_qual_holder = \"\" # we're going to hold all the numeric quality values for alignments in this other string\n",
    "\n",
    "            for value in pileup_data[5]:\n",
    "                base_qual_holder += str(ord(value)-33) + \",\"\n",
    "            \n",
    "            for value in pileup_data[6]:\n",
    "                align_qual_holder += str(ord(value)-33) + \",\"\n",
    "\n",
    "            base_qual_holder = base_qual_holder.rstrip(\",\") # remove the final comma from the string of quality values\n",
    "            align_qual_holder = align_qual_holder.rstrip(\",\") # remove the final comma from the string of quality values\n",
    "            out_pileup.write(\"\\t\".join(pileup_data[0:4]) + \"\\t\" + base_qual_holder + \"\\t\" + align_qual_holder + \"\\n\")"
   ]
  }
 ],
 "metadata": {
  "kernelspec": {
   "display_name": "Python 3 (ipykernel)",
   "language": "python",
   "name": "python3"
  },
  "language_info": {
   "codemirror_mode": {
    "name": "ipython",
    "version": 3
   },
   "file_extension": ".py",
   "mimetype": "text/x-python",
   "name": "python",
   "nbconvert_exporter": "python",
   "pygments_lexer": "ipython3",
   "version": "3.9.12"
  }
 },
 "nbformat": 4,
 "nbformat_minor": 5
}
